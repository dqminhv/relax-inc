{
  "cells": [
    {
      "cell_type": "markdown",
      "metadata": {
        "id": "view-in-github",
        "colab_type": "text"
      },
      "source": [
        "<a href=\"https://colab.research.google.com/github/dqminhv/relax-inc/blob/main/RelaxInc.ipynb\" target=\"_parent\"><img src=\"https://colab.research.google.com/assets/colab-badge.svg\" alt=\"Open In Colab\"/></a>"
      ]
    },
    {
      "cell_type": "markdown",
      "id": "1624f93d",
      "metadata": {
        "id": "1624f93d"
      },
      "source": [
        "# Loading Required Packages and Data"
      ]
    },
    {
      "cell_type": "code",
      "execution_count": 1,
      "id": "d590f457",
      "metadata": {
        "id": "d590f457"
      },
      "outputs": [],
      "source": [
        "import warnings\n",
        "warnings.filterwarnings('ignore')"
      ]
    },
    {
      "cell_type": "code",
      "execution_count": 2,
      "id": "5d0adb6e",
      "metadata": {
        "id": "5d0adb6e"
      },
      "outputs": [],
      "source": [
        "import pandas as pd\n",
        "import numpy as np\n",
        "import matplotlib.pyplot as plt\n",
        "import seaborn as sns\n",
        "import time"
      ]
    },
    {
      "cell_type": "code",
      "execution_count": 3,
      "id": "a488476f",
      "metadata": {
        "id": "a488476f"
      },
      "outputs": [],
      "source": [
        "user_engagement_data_path = 'https://raw.githubusercontent.com/dqminhv/Springboard_RelaxInc/main/Data/takehome_user_engagement.csv'\n",
        "users_data_path = 'https://raw.githubusercontent.com/dqminhv/Springboard_RelaxInc/main/Data/takehome_users.csv'"
      ]
    },
    {
      "cell_type": "code",
      "execution_count": 4,
      "id": "defa7a17",
      "metadata": {
        "id": "defa7a17"
      },
      "outputs": [],
      "source": [
        "#Load users data to a dataframe\n",
        "users = pd.read_csv(users_data_path, encoding='ISO-8859-1')"
      ]
    },
    {
      "cell_type": "code",
      "source": [
        "users.info()"
      ],
      "metadata": {
        "id": "fKoqM0b1It9U",
        "outputId": "de3b6e4c-7845-4e8c-f2dd-b88e4d9785ae",
        "colab": {
          "base_uri": "https://localhost:8080/"
        }
      },
      "id": "fKoqM0b1It9U",
      "execution_count": 8,
      "outputs": [
        {
          "output_type": "stream",
          "name": "stdout",
          "text": [
            "<class 'pandas.core.frame.DataFrame'>\n",
            "RangeIndex: 12000 entries, 0 to 11999\n",
            "Data columns (total 10 columns):\n",
            " #   Column                      Non-Null Count  Dtype  \n",
            "---  ------                      --------------  -----  \n",
            " 0   object_id                   12000 non-null  int64  \n",
            " 1   creation_time               12000 non-null  object \n",
            " 2   name                        12000 non-null  object \n",
            " 3   email                       12000 non-null  object \n",
            " 4   creation_source             12000 non-null  object \n",
            " 5   last_session_creation_time  8823 non-null   float64\n",
            " 6   opted_in_to_mailing_list    12000 non-null  int64  \n",
            " 7   enabled_for_marketing_drip  12000 non-null  int64  \n",
            " 8   org_id                      12000 non-null  int64  \n",
            " 9   invited_by_user_id          6417 non-null   float64\n",
            "dtypes: float64(2), int64(4), object(4)\n",
            "memory usage: 937.6+ KB\n"
          ]
        }
      ]
    },
    {
      "cell_type": "code",
      "execution_count": 9,
      "id": "39880807",
      "metadata": {
        "id": "39880807"
      },
      "outputs": [],
      "source": [
        "#Load user engagement to a dataframe\n",
        "user_engagement = pd.read_csv(user_engagement_data_path)"
      ]
    },
    {
      "cell_type": "code",
      "execution_count": 10,
      "id": "c9732089",
      "metadata": {
        "id": "c9732089",
        "outputId": "36518380-b4a0-460f-a403-d40300a20801",
        "colab": {
          "base_uri": "https://localhost:8080/"
        }
      },
      "outputs": [
        {
          "output_type": "stream",
          "name": "stdout",
          "text": [
            "<class 'pandas.core.frame.DataFrame'>\n",
            "RangeIndex: 207917 entries, 0 to 207916\n",
            "Data columns (total 3 columns):\n",
            " #   Column      Non-Null Count   Dtype \n",
            "---  ------      --------------   ----- \n",
            " 0   time_stamp  207917 non-null  object\n",
            " 1   user_id     207917 non-null  int64 \n",
            " 2   visited     207917 non-null  int64 \n",
            "dtypes: int64(2), object(1)\n",
            "memory usage: 4.8+ MB\n"
          ]
        }
      ],
      "source": [
        "user_engagement.info()"
      ]
    },
    {
      "cell_type": "code",
      "execution_count": 11,
      "id": "cb7d9129",
      "metadata": {
        "id": "cb7d9129"
      },
      "outputs": [],
      "source": [
        "#Convert time_stamp column to datetime objects\n",
        "user_engagement['time_stamp'] = pd.to_datetime(user_engagement['time_stamp'])"
      ]
    },
    {
      "cell_type": "markdown",
      "id": "e0733ee0",
      "metadata": {
        "id": "e0733ee0"
      },
      "source": [
        "# Determine User Adoption"
      ]
    },
    {
      "cell_type": "code",
      "execution_count": 12,
      "id": "a00ec6f4",
      "metadata": {
        "id": "a00ec6f4"
      },
      "outputs": [],
      "source": [
        "from datetime import timedelta\n",
        "\n",
        "# Sort the DataFrame by user_id and timestamp\n",
        "user_engagement.sort_values(by=['user_id', 'time_stamp'], inplace=True)\n",
        "\n",
        "# Create a new column to represent the date (without time)\n",
        "user_engagement['date'] = user_engagement['time_stamp'].dt.date\n",
        "\n",
        "# Define a function to check if a user has logged in on three separate days within a 7-day period\n",
        "def is_adopted(user_logins):\n",
        "    login_dates = set(user_logins['date'])\n",
        "\n",
        "    for i, login_date in enumerate(login_dates):\n",
        "        # Check if there are at least two more login dates within the next 6 days\n",
        "        next_dates = login_dates.intersection(user_logins['date'][i+1:i+3])\n",
        "        if any(date - login_date <= timedelta(days=6) for date in next_dates):\n",
        "            return True\n",
        "\n",
        "    return False"
      ]
    },
    {
      "cell_type": "code",
      "execution_count": 13,
      "id": "bd535177",
      "metadata": {
        "id": "bd535177"
      },
      "outputs": [],
      "source": [
        "#Create a dataframe of adopted users\n",
        "adopted_users = user_engagement.groupby('user_id').filter(lambda x: is_adopted(x)).groupby('user_id').agg({'user_id':'first'})"
      ]
    },
    {
      "cell_type": "code",
      "execution_count": 14,
      "id": "c3865a12",
      "metadata": {
        "id": "c3865a12"
      },
      "outputs": [],
      "source": [
        "#Merge the users dataframe with the adopted_users dataframe\n",
        "users = pd.merge(users, adopted_users,\n",
        "                left_on = 'object_id',\n",
        "                right_on = adopted_users.index,\n",
        "                how = 'left')"
      ]
    },
    {
      "cell_type": "code",
      "execution_count": 15,
      "id": "b48c9a79",
      "metadata": {
        "id": "b48c9a79"
      },
      "outputs": [],
      "source": [
        "#Rename the user_id column to is_adopted\n",
        "users.rename(columns={'user_id':'is_adopted'}, inplace=True)"
      ]
    },
    {
      "cell_type": "markdown",
      "id": "94259355",
      "metadata": {
        "id": "94259355"
      },
      "source": [
        "**Adopted users will have a numeric value in the is_adopted column, while non-adopted users will have this value missing. Thus, we will tranform the is_adopted column to binary.**"
      ]
    },
    {
      "cell_type": "code",
      "execution_count": 16,
      "id": "84077feb",
      "metadata": {
        "id": "84077feb"
      },
      "outputs": [],
      "source": [
        "users['is_adopted'] = users['is_adopted'].notna().astype(int)"
      ]
    },
    {
      "cell_type": "markdown",
      "id": "55809113",
      "metadata": {
        "id": "55809113"
      },
      "source": [
        "# EDA"
      ]
    },
    {
      "cell_type": "code",
      "execution_count": 17,
      "id": "91e7b9db",
      "metadata": {
        "id": "91e7b9db",
        "outputId": "b9bdf297-5c83-4e47-b125-d642058a05a5",
        "colab": {
          "base_uri": "https://localhost:8080/"
        }
      },
      "outputs": [
        {
          "output_type": "execute_result",
          "data": {
            "text/plain": [
              "object_id                        0\n",
              "creation_time                    0\n",
              "name                             0\n",
              "email                            0\n",
              "creation_source                  0\n",
              "last_session_creation_time    3177\n",
              "opted_in_to_mailing_list         0\n",
              "enabled_for_marketing_drip       0\n",
              "org_id                           0\n",
              "invited_by_user_id            5583\n",
              "is_adopted                       0\n",
              "dtype: int64"
            ]
          },
          "metadata": {},
          "execution_count": 17
        }
      ],
      "source": [
        "#Looking at missing values\n",
        "users.isnull().sum()"
      ]
    },
    {
      "cell_type": "code",
      "execution_count": 18,
      "id": "3448a900",
      "metadata": {
        "id": "3448a900",
        "outputId": "7df331ee-7eac-40b9-d4a7-cb3eddefe5c5",
        "colab": {
          "base_uri": "https://localhost:8080/"
        }
      },
      "outputs": [
        {
          "output_type": "stream",
          "name": "stdout",
          "text": [
            "Number of adopted user: 2416\n"
          ]
        }
      ],
      "source": [
        "# Determine the number of adopted users\n",
        "print('Number of adopted user:', users['is_adopted'].sum())"
      ]
    },
    {
      "cell_type": "code",
      "source": [
        "sns.countplot(x='is_adopted', data=users, stat='percent', hue='is_adopted', legend=False)\n",
        "plt.xlabel('Adoption Status')\n",
        "plt.ylabel('Percent')\n",
        "plt.title('Percentage of adoption status')\n",
        "plt.xticks([0,1], ['Not Adopted', 'Adopted'])\n",
        "plt.show()"
      ],
      "metadata": {
        "id": "aWpn0qszJptW",
        "outputId": "1416e1e3-b4be-42cd-c713-16e45c3b7b07",
        "colab": {
          "base_uri": "https://localhost:8080/",
          "height": 472
        }
      },
      "id": "aWpn0qszJptW",
      "execution_count": 28,
      "outputs": [
        {
          "output_type": "display_data",
          "data": {
            "text/plain": [
              "<Figure size 640x480 with 1 Axes>"
            ],
            "image/png": "[encoded data removed]"
          },
          "metadata": {}
        }
      ]
    },
    {
      "cell_type": "markdown",
      "id": "4512e4ef",
      "metadata": {
        "id": "4512e4ef"
      },
      "source": [
        "**The data is very imbalanced. We will keep this in mind when building our predictive model.**"
      ]
    },
    {
      "cell_type": "markdown",
      "id": "8a234d71",
      "metadata": {
        "id": "8a234d71"
      },
      "source": [
        "## User adoption by creation_source"
      ]
    },
    {
      "cell_type": "code",
      "execution_count": 29,
      "id": "6684e65a",
      "metadata": {
        "id": "6684e65a",
        "outputId": "a838fa45-0b7b-48cc-fe94-fa7aa4f2a128",
        "colab": {
          "base_uri": "https://localhost:8080/",
          "height": 584
        }
      },
      "outputs": [
        {
          "output_type": "display_data",
          "data": {
            "text/plain": [
              "<Figure size 640x480 with 1 Axes>"
            ],
            "image/png": "[encoded data removed]"
          },
          "metadata": {}
        }
      ],
      "source": [
        "sns.countplot(x=\"creation_source\", hue=\"is_adopted\", data=users)\n",
        "plt.title('Users adoption by Creation Source')\n",
        "plt.xlabel('Creation Source')\n",
        "plt.ylabel('Users Count')\n",
        "plt.legend(labels=[\"Non-adopted User\", \"Adopted User\"], title=\"\", loc=\"upper right\")\n",
        "plt.xticks(rotation=45)\n",
        "plt.show()"
      ]
    },
    {
      "cell_type": "markdown",
      "id": "ad7478b5",
      "metadata": {
        "id": "ad7478b5"
      },
      "source": [
        "## User adoption by opted_in_to_mailing_list"
      ]
    },
    {
      "cell_type": "code",
      "execution_count": 30,
      "id": "db685aee",
      "metadata": {
        "id": "db685aee",
        "outputId": "7195309f-f148-4530-b39f-3d84b3eb271b",
        "colab": {
          "base_uri": "https://localhost:8080/",
          "height": 472
        }
      },
      "outputs": [
        {
          "output_type": "display_data",
          "data": {
            "text/plain": [
              "<Figure size 640x480 with 1 Axes>"
            ],
            "image/png": "[encoded data removed]"
          },
          "metadata": {}
        }
      ],
      "source": [
        "sns.countplot(x=\"opted_in_to_mailing_list\", hue=\"is_adopted\", data=users)\n",
        "plt.title('Users adoption by Opted Into Mailing List')\n",
        "plt.xlabel('Opted Into Mailing List')\n",
        "plt.ylabel('Users Count')\n",
        "plt.legend(labels=[\"Non-adopted User\", \"Adopted User\"], loc=\"upper right\")\n",
        "plt.xticks([0,1], ['Not Opt-in', 'Opt-in'])\n",
        "plt.show()"
      ]
    },
    {
      "cell_type": "markdown",
      "id": "43d2552f",
      "metadata": {
        "id": "43d2552f"
      },
      "source": [
        "## User adoption by enabled_for_marketing_drip"
      ]
    },
    {
      "cell_type": "code",
      "execution_count": 31,
      "id": "315c2387",
      "metadata": {
        "id": "315c2387",
        "outputId": "0be123a8-9a30-481b-dabe-28e1bda173a2",
        "colab": {
          "base_uri": "https://localhost:8080/",
          "height": 472
        }
      },
      "outputs": [
        {
          "output_type": "display_data",
          "data": {
            "text/plain": [
              "<Figure size 640x480 with 1 Axes>"
            ],
            "image/png": "[encoded data removed]"
          },
          "metadata": {}
        }
      ],
      "source": [
        "sns.countplot(x=\"enabled_for_marketing_drip\", hue=\"is_adopted\", data=users)\n",
        "plt.title('Users adoption by Enabling to Marketing Drip')\n",
        "plt.xlabel('Enabling to Marketing Drip')\n",
        "plt.ylabel('Users Count')\n",
        "plt.legend(labels=[\"Non-adopted User\", \"Adopted User\"], loc=\"upper right\")\n",
        "plt.xticks([0,1], ['Enabled', 'Not Enabled'])\n",
        "plt.show()"
      ]
    },
    {
      "cell_type": "markdown",
      "id": "41676c57",
      "metadata": {
        "id": "41676c57"
      },
      "source": [
        "## User adoption by org_id"
      ]
    },
    {
      "cell_type": "code",
      "execution_count": 32,
      "id": "baf8e051",
      "metadata": {
        "id": "baf8e051",
        "outputId": "3023f329-a0c3-4212-cd6f-be1878548b29",
        "colab": {
          "base_uri": "https://localhost:8080/"
        }
      },
      "outputs": [
        {
          "output_type": "stream",
          "name": "stdout",
          "text": [
            "Number of organizations:  417\n"
          ]
        }
      ],
      "source": [
        "# Determine the number of unique organizations\n",
        "print('Number of organizations: ', users['org_id'].nunique())"
      ]
    },
    {
      "cell_type": "code",
      "execution_count": 33,
      "id": "c0ea2472",
      "metadata": {
        "id": "c0ea2472",
        "outputId": "492a26bd-3e34-4b25-d649-72c1c2e1d7b2",
        "colab": {
          "base_uri": "https://localhost:8080/"
        }
      },
      "outputs": [
        {
          "output_type": "stream",
          "name": "stdout",
          "text": [
            "Top 10 organizations by number of adopted users: \n",
            "Organization Id: 0, Number of adopted users: 25\n",
            "Organization Id: 7, Number of adopted users: 25\n",
            "Organization Id: 4, Number of adopted users: 24\n",
            "Organization Id: 9, Number of adopted users: 24\n",
            "Organization Id: 1, Number of adopted users: 24\n",
            "Organization Id: 2, Number of adopted users: 20\n",
            "Organization Id: 6, Number of adopted users: 19\n",
            "Organization Id: 3, Number of adopted users: 18\n",
            "Organization Id: 5, Number of adopted users: 17\n",
            "Organization Id: 22, Number of adopted users: 17\n"
          ]
        }
      ],
      "source": [
        "print('Top 10 organizations by number of adopted users: ')\n",
        "\n",
        "for index, value in users.groupby('org_id').agg({'is_adopted':'sum'}).sort_values(by='is_adopted', ascending=False)['is_adopted'][:10].items():\n",
        "    print(f\"Organization Id: {index}, Number of adopted users: {value}\")"
      ]
    },
    {
      "cell_type": "code",
      "execution_count": 34,
      "id": "79f5aa08",
      "metadata": {
        "id": "79f5aa08",
        "outputId": "0202ef65-d5da-42ed-c132-1d1bca504340",
        "colab": {
          "base_uri": "https://localhost:8080/"
        }
      },
      "outputs": [
        {
          "output_type": "stream",
          "name": "stdout",
          "text": [
            "Organizations that do not have adopted users: \n",
            "183\n",
            "237\n",
            "355\n",
            "412\n",
            "416\n"
          ]
        }
      ],
      "source": [
        "#Organizations that do not have adopted users\n",
        "print('Organizations that do not have adopted users: ')\n",
        "\n",
        "for index in users.groupby('org_id').\\\n",
        "                        agg({'is_adopted':'sum'}).\\\n",
        "                        loc[users.groupby('org_id').\\\n",
        "                        agg({'is_adopted':'sum'})['is_adopted']==0].index:\n",
        "    print(index)"
      ]
    },
    {
      "cell_type": "markdown",
      "id": "2c62cc51",
      "metadata": {
        "id": "2c62cc51"
      },
      "source": [
        "## User adoption by invitation"
      ]
    },
    {
      "cell_type": "code",
      "execution_count": 35,
      "id": "f2729f1d",
      "metadata": {
        "id": "f2729f1d"
      },
      "outputs": [],
      "source": [
        "#Create a binary is_invited column\n",
        "users['is_invited'] = ~users['invited_by_user_id'].isnull()"
      ]
    },
    {
      "cell_type": "code",
      "execution_count": 36,
      "id": "b670aa57",
      "metadata": {
        "id": "b670aa57",
        "outputId": "02b51a30-48e3-4298-f053-3ee109fd6c17",
        "colab": {
          "base_uri": "https://localhost:8080/"
        }
      },
      "outputs": [
        {
          "output_type": "stream",
          "name": "stdout",
          "text": [
            "Number of users with/without invitation\n",
            "With invitation:  5583\n",
            "Without invitation:  6417\n"
          ]
        }
      ],
      "source": [
        "#Number of users with/without invitation\n",
        "print('Number of users with/without invitation')\n",
        "print('With invitation: ', users['is_invited'].value_counts()[1])\n",
        "print('Without invitation: ', users['is_invited'].value_counts()[0])"
      ]
    },
    {
      "cell_type": "code",
      "execution_count": 38,
      "id": "92c7c852",
      "metadata": {
        "id": "92c7c852",
        "outputId": "a761a19b-d50a-490a-8c29-7bbfa1b3fbbe",
        "colab": {
          "base_uri": "https://localhost:8080/",
          "height": 472
        }
      },
      "outputs": [
        {
          "output_type": "display_data",
          "data": {
            "text/plain": [
              "<Figure size 640x480 with 1 Axes>"
            ],
            "image/png": "[encoded data removed]"
          },
          "metadata": {}
        }
      ],
      "source": [
        "sns.countplot(x=\"is_invited\", hue=\"is_adopted\", data=users)\n",
        "plt.title('Users adoption by Invitation')\n",
        "plt.xlabel('Invitation')\n",
        "plt.ylabel('Users Count')\n",
        "plt.legend(labels=[\"Non-adopted User\", \"Adopted User\"], loc=\"upper right\")\n",
        "plt.xticks([0,1], ['Not Invited', 'Invited'])\n",
        "plt.show()"
      ]
    },
    {
      "cell_type": "code",
      "execution_count": 41,
      "id": "4db7887d",
      "metadata": {
        "id": "4db7887d",
        "outputId": "d068194f-da17-47ca-aed7-56ee999c2f2d",
        "colab": {
          "base_uri": "https://localhost:8080/"
        }
      },
      "outputs": [
        {
          "output_type": "execute_result",
          "data": {
            "text/plain": [
              "invited_by_user_id\n",
              "10741.0               13\n",
              "2527.0                12\n",
              "1525.0                11\n",
              "11770.0               11\n",
              "2308.0                11\n",
              "8068.0                10\n",
              "7012.0                10\n",
              "6370.0                10\n",
              "4803.0                10\n",
              "2354.0                10\n",
              "dtype: int64"
            ]
          },
          "metadata": {},
          "execution_count": 41
        }
      ],
      "source": [
        "#Top 10 users by number of invitations\n",
        "users[['invited_by_user_id']].value_counts()[:10]"
      ]
    },
    {
      "cell_type": "markdown",
      "id": "744f565a",
      "metadata": {
        "id": "744f565a"
      },
      "source": [
        "# Data Preprocessing"
      ]
    },
    {
      "cell_type": "code",
      "execution_count": 42,
      "id": "8a21064a",
      "metadata": {
        "id": "8a21064a"
      },
      "outputs": [],
      "source": [
        "from sklearn.model_selection import train_test_split, cross_val_score\n",
        "from sklearn.preprocessing import OneHotEncoder, StandardScaler, Normalizer\n",
        "from sklearn.compose import make_column_transformer"
      ]
    },
    {
      "cell_type": "code",
      "execution_count": 43,
      "id": "779cabf6",
      "metadata": {
        "id": "779cabf6"
      },
      "outputs": [],
      "source": [
        "#Fill NaN values of last_session_creation_time with 0\n",
        "users['last_session_creation_time'].fillna(0, inplace=True)"
      ]
    },
    {
      "cell_type": "code",
      "execution_count": 44,
      "id": "00df4601",
      "metadata": {
        "id": "00df4601"
      },
      "outputs": [],
      "source": [
        "#Create a new users dataframe with the column 'visited' that count the number of login of a user\n",
        "users_with_login = pd.merge(users, user_engagement.groupby('user_id').agg({'visited':'sum'}),\n",
        "                 left_on = 'object_id',\n",
        "                 right_on = 'user_id',\n",
        "                 how = 'left')"
      ]
    },
    {
      "cell_type": "code",
      "execution_count": 45,
      "id": "2b7d9bd5",
      "metadata": {
        "id": "2b7d9bd5"
      },
      "outputs": [],
      "source": [
        "#Fill the missing value of visited column by 0\n",
        "users_with_login.fillna(0, inplace=True)"
      ]
    },
    {
      "cell_type": "code",
      "execution_count": 46,
      "id": "b367ab8a",
      "metadata": {
        "id": "b367ab8a",
        "outputId": "506f2c24-8999-4020-ba66-5a587f560ec6",
        "colab": {
          "base_uri": "https://localhost:8080/",
          "height": 313
        }
      },
      "outputs": [
        {
          "output_type": "execute_result",
          "data": {
            "text/plain": [
              "   object_id        creation_time               name  \\\n",
              "0          1  2014-04-22 03:53:30     Clausen August   \n",
              "1          2  2013-11-15 03:45:04      Poole Matthew   \n",
              "2          3  2013-03-19 23:14:52  Bottrill Mitchell   \n",
              "3          4  2013-05-21 08:09:28    Clausen Nicklas   \n",
              "4          5  2013-01-17 10:14:20          Raw Grace   \n",
              "\n",
              "                        email creation_source  last_session_creation_time  \\\n",
              "0    AugustCClausen@yahoo.com    GUEST_INVITE                1.398139e+09   \n",
              "1      MatthewPoole@gustr.com      ORG_INVITE                1.396238e+09   \n",
              "2  MitchellBottrill@gustr.com      ORG_INVITE                1.363735e+09   \n",
              "3   NicklasSClausen@yahoo.com    GUEST_INVITE                1.369210e+09   \n",
              "4          GraceRaw@yahoo.com    GUEST_INVITE                1.358850e+09   \n",
              "\n",
              "   opted_in_to_mailing_list  enabled_for_marketing_drip  org_id  \\\n",
              "0                         1                           0      11   \n",
              "1                         0                           0       1   \n",
              "2                         0                           0      94   \n",
              "3                         0                           0       1   \n",
              "4                         0                           0     193   \n",
              "\n",
              "   invited_by_user_id  is_adopted  is_invited  visited  \n",
              "0             10803.0           0        True      1.0  \n",
              "1               316.0           1        True     14.0  \n",
              "2              1525.0           0        True      1.0  \n",
              "3              5151.0           0        True      1.0  \n",
              "4              5240.0           0        True      1.0  "
            ],
            "text/html": [
              "\n",
              "  <div id=\"df-d526a355-9313-4dd6-887b-e9a9ae338b6f\" class=\"colab-df-container\">\n",
              "    <div>\n",
              "<style scoped>\n",
              "    .dataframe tbody tr th:only-of-type {\n",
              "        vertical-align: middle;\n",
              "    }\n",
              "\n",
              "    .dataframe tbody tr th {\n",
              "        vertical-align: top;\n",
              "    }\n",
              "\n",
              "    .dataframe thead th {\n",
              "        text-align: right;\n",
              "    }\n",
              "</style>\n",
              "<table border=\"1\" class=\"dataframe\">\n",
              "  <thead>\n",
              "    <tr style=\"text-align: right;\">\n",
              "      <th></th>\n",
              "      <th>object_id</th>\n",
              "      <th>creation_time</th>\n",
              "      <th>name</th>\n",
              "      <th>email</th>\n",
              "      <th>creation_source</th>\n",
              "      <th>last_session_creation_time</th>\n",
              "      <th>opted_in_to_mailing_list</th>\n",
              "      <th>enabled_for_marketing_drip</th>\n",
              "      <th>org_id</th>\n",
              "      <th>invited_by_user_id</th>\n",
              "      <th>is_adopted</th>\n",
              "      <th>is_invited</th>\n",
              "      <th>visited</th>\n",
              "    </tr>\n",
              "  </thead>\n",
              "  <tbody>\n",
              "    <tr>\n",
              "      <th>0</th>\n",
              "      <td>1</td>\n",
              "      <td>2014-04-22 03:53:30</td>\n",
              "      <td>Clausen August</td>\n",
              "      <td>AugustCClausen@yahoo.com</td>\n",
              "      <td>GUEST_INVITE</td>\n",
              "      <td>1.398139e+09</td>\n",
              "      <td>1</td>\n",
              "      <td>0</td>\n",
              "      <td>11</td>\n",
              "      <td>10803.0</td>\n",
              "      <td>0</td>\n",
              "      <td>True</td>\n",
              "      <td>1.0</td>\n",
              "    </tr>\n",
              "    <tr>\n",
              "      <th>1</th>\n",
              "      <td>2</td>\n",
              "      <td>2013-11-15 03:45:04</td>\n",
              "      <td>Poole Matthew</td>\n",
              "      <td>MatthewPoole@gustr.com</td>\n",
              "      <td>ORG_INVITE</td>\n",
              "      <td>1.396238e+09</td>\n",
              "      <td>0</td>\n",
              "      <td>0</td>\n",
              "      <td>1</td>\n",
              "      <td>316.0</td>\n",
              "      <td>1</td>\n",
              "      <td>True</td>\n",
              "      <td>14.0</td>\n",
              "    </tr>\n",
              "    <tr>\n",
              "      <th>2</th>\n",
              "      <td>3</td>\n",
              "      <td>2013-03-19 23:14:52</td>\n",
              "      <td>Bottrill Mitchell</td>\n",
              "      <td>MitchellBottrill@gustr.com</td>\n",
              "      <td>ORG_INVITE</td>\n",
              "      <td>1.363735e+09</td>\n",
              "      <td>0</td>\n",
              "      <td>0</td>\n",
              "      <td>94</td>\n",
              "      <td>1525.0</td>\n",
              "      <td>0</td>\n",
              "      <td>True</td>\n",
              "      <td>1.0</td>\n",
              "    </tr>\n",
              "    <tr>\n",
              "      <th>3</th>\n",
              "      <td>4</td>\n",
              "      <td>2013-05-21 08:09:28</td>\n",
              "      <td>Clausen Nicklas</td>\n",
              "      <td>NicklasSClausen@yahoo.com</td>\n",
              "      <td>GUEST_INVITE</td>\n",
              "      <td>1.369210e+09</td>\n",
              "      <td>0</td>\n",
              "      <td>0</td>\n",
              "      <td>1</td>\n",
              "      <td>5151.0</td>\n",
              "      <td>0</td>\n",
              "      <td>True</td>\n",
              "      <td>1.0</td>\n",
              "    </tr>\n",
              "    <tr>\n",
              "      <th>4</th>\n",
              "      <td>5</td>\n",
              "      <td>2013-01-17 10:14:20</td>\n",
              "      <td>Raw Grace</td>\n",
              "      <td>GraceRaw@yahoo.com</td>\n",
              "      <td>GUEST_INVITE</td>\n",
              "      <td>1.358850e+09</td>\n",
              "      <td>0</td>\n",
              "      <td>0</td>\n",
              "      <td>193</td>\n",
              "      <td>5240.0</td>\n",
              "      <td>0</td>\n",
              "      <td>True</td>\n",
              "      <td>1.0</td>\n",
              "    </tr>\n",
              "  </tbody>\n",
              "</table>\n",
              "</div>\n",
              "    <div class=\"colab-df-buttons\">\n",
              "\n",
              "  <div class=\"colab-df-container\">\n",
              "    <button class=\"colab-df-convert\" onclick=\"convertToInteractive('df-d526a355-9313-4dd6-887b-e9a9ae338b6f')\"\n",
              "            title=\"Convert this dataframe to an interactive table.\"\n",
              "            style=\"display:none;\">\n",
              "\n",
              "  <svg xmlns=\"http://www.w3.org/2000/svg\" height=\"24px\" viewBox=\"0 -960 960 960\">\n",
              "    <path d=\"M120-120v-720h720v720H120Zm60-500h600v-160H180v160Zm220 220h160v-160H400v160Zm0 220h160v-160H400v160ZM180-400h160v-160H180v160Zm440 0h160v-160H620v160ZM180-180h160v-160H180v160Zm440 0h160v-160H620v160Z\"/>\n",
              "  </svg>\n",
              "    </button>\n",
              "\n",
              "  <style>\n",
              "    .colab-df-container {\n",
              "      display:flex;\n",
              "      gap: 12px;\n",
              "    }\n",
              "\n",
              "    .colab-df-convert {\n",
              "      background-color: #E8F0FE;\n",
              "      border: none;\n",
              "      border-radius: 50%;\n",
              "      cursor: pointer;\n",
              "      display: none;\n",
              "      fill: #1967D2;\n",
              "      height: 32px;\n",
              "      padding: 0 0 0 0;\n",
              "      width: 32px;\n",
              "    }\n",
              "\n",
              "    .colab-df-convert:hover {\n",
              "      background-color: #E2EBFA;\n",
              "      box-shadow: 0px 1px 2px rgba(60, 64, 67, 0.3), 0px 1px 3px 1px rgba(60, 64, 67, 0.15);\n",
              "      fill: #174EA6;\n",
              "    }\n",
              "\n",
              "    .colab-df-buttons div {\n",
              "      margin-bottom: 4px;\n",
              "    }\n",
              "\n",
              "    [theme=dark] .colab-df-convert {\n",
              "      background-color: #3B4455;\n",
              "      fill: #D2E3FC;\n",
              "    }\n",
              "\n",
              "    [theme=dark] .colab-df-convert:hover {\n",
              "      background-color: #434B5C;\n",
              "      box-shadow: 0px 1px 3px 1px rgba(0, 0, 0, 0.15);\n",
              "      filter: drop-shadow(0px 1px 2px rgba(0, 0, 0, 0.3));\n",
              "      fill: #FFFFFF;\n",
              "    }\n",
              "  </style>\n",
              "\n",
              "    <script>\n",
              "      const buttonEl =\n",
              "        document.querySelector('#df-d526a355-9313-4dd6-887b-e9a9ae338b6f button.colab-df-convert');\n",
              "      buttonEl.style.display =\n",
              "        google.colab.kernel.accessAllowed ? 'block' : 'none';\n",
              "\n",
              "      async function convertToInteractive(key) {\n",
              "        const element = document.querySelector('#df-d526a355-9313-4dd6-887b-e9a9ae338b6f');\n",
              "        const dataTable =\n",
              "          await google.colab.kernel.invokeFunction('convertToInteractive',\n",
              "                                                    [key], {});\n",
              "        if (!dataTable) return;\n",
              "\n",
              "        const docLinkHtml = 'Like what you see? Visit the ' +\n",
              "          '<a target=\"_blank\" href=https://colab.research.google.com/notebooks/data_table.ipynb>data table notebook</a>'\n",
              "          + ' to learn more about interactive tables.';\n",
              "        element.innerHTML = '';\n",
              "        dataTable['output_type'] = 'display_data';\n",
              "        await google.colab.output.renderOutput(dataTable, element);\n",
              "        const docLink = document.createElement('div');\n",
              "        docLink.innerHTML = docLinkHtml;\n",
              "        element.appendChild(docLink);\n",
              "      }\n",
              "    </script>\n",
              "  </div>\n",
              "\n",
              "\n",
              "<div id=\"df-ec74c5a7-ba2d-4d03-ba15-4f5a1e518303\">\n",
              "  <button class=\"colab-df-quickchart\" onclick=\"quickchart('df-ec74c5a7-ba2d-4d03-ba15-4f5a1e518303')\"\n",
              "            title=\"Suggest charts\"\n",
              "            style=\"display:none;\">\n",
              "\n",
              "<svg xmlns=\"http://www.w3.org/2000/svg\" height=\"24px\"viewBox=\"0 0 24 24\"\n",
              "     width=\"24px\">\n",
              "    <g>\n",
              "        <path d=\"M19 3H5c-1.1 0-2 .9-2 2v14c0 1.1.9 2 2 2h14c1.1 0 2-.9 2-2V5c0-1.1-.9-2-2-2zM9 17H7v-7h2v7zm4 0h-2V7h2v10zm4 0h-2v-4h2v4z\"/>\n",
              "    </g>\n",
              "</svg>\n",
              "  </button>\n",
              "\n",
              "<style>\n",
              "  .colab-df-quickchart {\n",
              "      --bg-color: #E8F0FE;\n",
              "      --fill-color: #1967D2;\n",
              "      --hover-bg-color: #E2EBFA;\n",
              "      --hover-fill-color: #174EA6;\n",
              "      --disabled-fill-color: #AAA;\n",
              "      --disabled-bg-color: #DDD;\n",
              "  }\n",
              "\n",
              "  [theme=dark] .colab-df-quickchart {\n",
              "      --bg-color: #3B4455;\n",
              "      --fill-color: #D2E3FC;\n",
              "      --hover-bg-color: #434B5C;\n",
              "      --hover-fill-color: #FFFFFF;\n",
              "      --disabled-bg-color: #3B4455;\n",
              "      --disabled-fill-color: #666;\n",
              "  }\n",
              "\n",
              "  .colab-df-quickchart {\n",
              "    background-color: var(--bg-color);\n",
              "    border: none;\n",
              "    border-radius: 50%;\n",
              "    cursor: pointer;\n",
              "    display: none;\n",
              "    fill: var(--fill-color);\n",
              "    height: 32px;\n",
              "    padding: 0;\n",
              "    width: 32px;\n",
              "  }\n",
              "\n",
              "  .colab-df-quickchart:hover {\n",
              "    background-color: var(--hover-bg-color);\n",
              "    box-shadow: 0 1px 2px rgba(60, 64, 67, 0.3), 0 1px 3px 1px rgba(60, 64, 67, 0.15);\n",
              "    fill: var(--button-hover-fill-color);\n",
              "  }\n",
              "\n",
              "  .colab-df-quickchart-complete:disabled,\n",
              "  .colab-df-quickchart-complete:disabled:hover {\n",
              "    background-color: var(--disabled-bg-color);\n",
              "    fill: var(--disabled-fill-color);\n",
              "    box-shadow: none;\n",
              "  }\n",
              "\n",
              "  .colab-df-spinner {\n",
              "    border: 2px solid var(--fill-color);\n",
              "    border-color: transparent;\n",
              "    border-bottom-color: var(--fill-color);\n",
              "    animation:\n",
              "      spin 1s steps(1) infinite;\n",
              "  }\n",
              "\n",
              "  @keyframes spin {\n",
              "    0% {\n",
              "      border-color: transparent;\n",
              "      border-bottom-color: var(--fill-color);\n",
              "      border-left-color: var(--fill-color);\n",
              "    }\n",
              "    20% {\n",
              "      border-color: transparent;\n",
              "      border-left-color: var(--fill-color);\n",
              "      border-top-color: var(--fill-color);\n",
              "    }\n",
              "    30% {\n",
              "      border-color: transparent;\n",
              "      border-left-color: var(--fill-color);\n",
              "      border-top-color: var(--fill-color);\n",
              "      border-right-color: var(--fill-color);\n",
              "    }\n",
              "    40% {\n",
              "      border-color: transparent;\n",
              "      border-right-color: var(--fill-color);\n",
              "      border-top-color: var(--fill-color);\n",
              "    }\n",
              "    60% {\n",
              "      border-color: transparent;\n",
              "      border-right-color: var(--fill-color);\n",
              "    }\n",
              "    80% {\n",
              "      border-color: transparent;\n",
              "      border-right-color: var(--fill-color);\n",
              "      border-bottom-color: var(--fill-color);\n",
              "    }\n",
              "    90% {\n",
              "      border-color: transparent;\n",
              "      border-bottom-color: var(--fill-color);\n",
              "    }\n",
              "  }\n",
              "</style>\n",
              "\n",
              "  <script>\n",
              "    async function quickchart(key) {\n",
              "      const quickchartButtonEl =\n",
              "        document.querySelector('#' + key + ' button');\n",
              "      quickchartButtonEl.disabled = true;  // To prevent multiple clicks.\n",
              "      quickchartButtonEl.classList.add('colab-df-spinner');\n",
              "      try {\n",
              "        const charts = await google.colab.kernel.invokeFunction(\n",
              "            'suggestCharts', [key], {});\n",
              "      } catch (error) {\n",
              "        console.error('Error during call to suggestCharts:', error);\n",
              "      }\n",
              "      quickchartButtonEl.classList.remove('colab-df-spinner');\n",
              "      quickchartButtonEl.classList.add('colab-df-quickchart-complete');\n",
              "    }\n",
              "    (() => {\n",
              "      let quickchartButtonEl =\n",
              "        document.querySelector('#df-ec74c5a7-ba2d-4d03-ba15-4f5a1e518303 button');\n",
              "      quickchartButtonEl.style.display =\n",
              "        google.colab.kernel.accessAllowed ? 'block' : 'none';\n",
              "    })();\n",
              "  </script>\n",
              "</div>\n",
              "\n",
              "    </div>\n",
              "  </div>\n"
            ],
            "application/vnd.google.colaboratory.intrinsic+json": {
              "type": "dataframe",
              "variable_name": "users_with_login",
              "summary": "{\n  \"name\": \"users_with_login\",\n  \"rows\": 12000,\n  \"fields\": [\n    {\n      \"column\": \"object_id\",\n      \"properties\": {\n        \"dtype\": \"number\",\n        \"std\": 3464,\n        \"min\": 1,\n        \"max\": 12000,\n        \"num_unique_values\": 12000,\n        \"samples\": [\n          1936,\n          6495,\n          1721\n        ],\n        \"semantic_type\": \"\",\n        \"description\": \"\"\n      }\n    },\n    {\n      \"column\": \"creation_time\",\n      \"properties\": {\n        \"dtype\": \"object\",\n        \"num_unique_values\": 11996,\n        \"samples\": [\n          \"2013-02-12 13:23:43\",\n          \"2013-02-16 01:32:28\",\n          \"2013-06-02 16:34:12\"\n        ],\n        \"semantic_type\": \"\",\n        \"description\": \"\"\n      }\n    },\n    {\n      \"column\": \"name\",\n      \"properties\": {\n        \"dtype\": \"string\",\n        \"num_unique_values\": 11355,\n        \"samples\": [\n          \"Christiansen Bent\",\n          \"Higley Christopher\",\n          \"Train Aidan\"\n        ],\n        \"semantic_type\": \"\",\n        \"description\": \"\"\n      }\n    },\n    {\n      \"column\": \"email\",\n      \"properties\": {\n        \"dtype\": \"string\",\n        \"num_unique_values\": 11980,\n        \"samples\": [\n          \"SamanthaClarke@gmail.com\",\n          \"xdusgyds@hgkij.com\",\n          \"LisaFruehauf@gmail.com\"\n        ],\n        \"semantic_type\": \"\",\n        \"description\": \"\"\n      }\n    },\n    {\n      \"column\": \"creation_source\",\n      \"properties\": {\n        \"dtype\": \"category\",\n        \"num_unique_values\": 5,\n        \"samples\": [\n          \"ORG_INVITE\",\n          \"SIGNUP_GOOGLE_AUTH\",\n          \"SIGNUP\"\n        ],\n        \"semantic_type\": \"\",\n        \"description\": \"\"\n      }\n    },\n    {\n      \"column\": \"last_session_creation_time\",\n      \"properties\": {\n        \"dtype\": \"number\",\n        \"std\": 608793771.2324414,\n        \"min\": 0.0,\n        \"max\": 1402066730.0,\n        \"num_unique_values\": 8822,\n        \"samples\": [\n          1340000786.0,\n          1375961509.0,\n          1401502899.0\n        ],\n        \"semantic_type\": \"\",\n        \"description\": \"\"\n      }\n    },\n    {\n      \"column\": \"opted_in_to_mailing_list\",\n      \"properties\": {\n        \"dtype\": \"number\",\n        \"std\": 0,\n        \"min\": 0,\n        \"max\": 1,\n        \"num_unique_values\": 2,\n        \"samples\": [\n          0,\n          1\n        ],\n        \"semantic_type\": \"\",\n        \"description\": \"\"\n      }\n    },\n    {\n      \"column\": \"enabled_for_marketing_drip\",\n      \"properties\": {\n        \"dtype\": \"number\",\n        \"std\": 0,\n        \"min\": 0,\n        \"max\": 1,\n        \"num_unique_values\": 2,\n        \"samples\": [\n          1,\n          0\n        ],\n        \"semantic_type\": \"\",\n        \"description\": \"\"\n      }\n    },\n    {\n      \"column\": \"org_id\",\n      \"properties\": {\n        \"dtype\": \"number\",\n        \"std\": 124,\n        \"min\": 0,\n        \"max\": 416,\n        \"num_unique_values\": 417,\n        \"samples\": [\n          198,\n          407\n        ],\n        \"semantic_type\": \"\",\n        \"description\": \"\"\n      }\n    },\n    {\n      \"column\": \"invited_by_user_id\",\n      \"properties\": {\n        \"dtype\": \"number\",\n        \"std\": 3869.027692780041,\n        \"min\": 0.0,\n        \"max\": 11999.0,\n        \"num_unique_values\": 2565,\n        \"samples\": [\n          719.0,\n          10730.0\n        ],\n        \"semantic_type\": \"\",\n        \"description\": \"\"\n      }\n    },\n    {\n      \"column\": \"is_adopted\",\n      \"properties\": {\n        \"dtype\": \"number\",\n        \"std\": 0,\n        \"min\": 0,\n        \"max\": 1,\n        \"num_unique_values\": 2,\n        \"samples\": [\n          1,\n          0\n        ],\n        \"semantic_type\": \"\",\n        \"description\": \"\"\n      }\n    },\n    {\n      \"column\": \"is_invited\",\n      \"properties\": {\n        \"dtype\": \"boolean\",\n        \"num_unique_values\": 2,\n        \"samples\": [\n          false,\n          true\n        ],\n        \"semantic_type\": \"\",\n        \"description\": \"\"\n      }\n    },\n    {\n      \"column\": \"visited\",\n      \"properties\": {\n        \"dtype\": \"number\",\n        \"std\": 64.28783928045544,\n        \"min\": 0.0,\n        \"max\": 606.0,\n        \"num_unique_values\": 403,\n        \"samples\": [\n          211.0,\n          353.0\n        ],\n        \"semantic_type\": \"\",\n        \"description\": \"\"\n      }\n    }\n  ]\n}"
            }
          },
          "metadata": {},
          "execution_count": 46
        }
      ],
      "source": [
        "users_with_login.head()"
      ]
    },
    {
      "cell_type": "code",
      "execution_count": null,
      "id": "0a700908",
      "metadata": {
        "id": "0a700908"
      },
      "outputs": [],
      "source": [
        "#Drop unnecessary columns\n",
        "data = users_with_login.drop(['object_id', 'creation_time', 'name', 'email', 'invited_by_user_id', 'org_id'], axis=1)"
      ]
    },
    {
      "cell_type": "code",
      "execution_count": null,
      "id": "0fcd2995",
      "metadata": {
        "id": "0fcd2995"
      },
      "outputs": [],
      "source": [
        "data['is_invited'] = data['is_invited'].astype(int)"
      ]
    },
    {
      "cell_type": "code",
      "execution_count": null,
      "id": "c56d5311",
      "metadata": {
        "id": "c56d5311"
      },
      "outputs": [],
      "source": [
        "#Onehot encode creation_source column\n",
        "transformer = make_column_transformer(\n",
        "    (OneHotEncoder(), ['creation_source']),\n",
        "    remainder='passthrough')\n",
        "\n",
        "data_transformed = pd.DataFrame(transformer.fit_transform(data), columns=transformer.get_feature_names_out())"
      ]
    },
    {
      "cell_type": "code",
      "execution_count": null,
      "id": "3f5183ba",
      "metadata": {
        "id": "3f5183ba"
      },
      "outputs": [],
      "source": [
        "X = data_transformed.drop('remainder__is_adopted', axis=1)\n",
        "y = data_transformed['remainder__is_adopted']"
      ]
    },
    {
      "cell_type": "code",
      "execution_count": null,
      "id": "3ce290dc",
      "metadata": {
        "id": "3ce290dc"
      },
      "outputs": [],
      "source": [
        "X_train, X_test, y_train, y_test = train_test_split(X, y, test_size=0.2, random_state=42, stratify=y)"
      ]
    },
    {
      "cell_type": "markdown",
      "id": "0b9b4970",
      "metadata": {
        "id": "0b9b4970"
      },
      "source": [
        "# Modeling & Model Selection"
      ]
    },
    {
      "cell_type": "code",
      "execution_count": null,
      "id": "d24d1519",
      "metadata": {
        "id": "d24d1519"
      },
      "outputs": [],
      "source": [
        "from sklearn.model_selection import StratifiedKFold\n",
        "from sklearn.preprocessing import Normalizer\n",
        "from imblearn.over_sampling import SMOTE\n",
        "\n",
        "from sklearn.pipeline import Pipeline\n",
        "from sklearn.metrics import classification_report, make_scorer, accuracy_score, confusion_matrix\n",
        "from sklearn.model_selection import StratifiedKFold, GridSearchCV, RandomizedSearchCV\n",
        "from imblearn.over_sampling import SMOTE\n",
        "\n",
        "from sklearn.naive_bayes import MultinomialNB\n",
        "from sklearn.svm import LinearSVC\n",
        "from sklearn.linear_model import LogisticRegression\n",
        "from sklearn.neighbors import KNeighborsClassifier\n",
        "from sklearn.tree import DecisionTreeClassifier\n",
        "from sklearn.ensemble import BaggingClassifier\n",
        "from sklearn.ensemble import AdaBoostClassifier\n",
        "from sklearn.ensemble import RandomForestClassifier\n",
        "from sklearn.ensemble import VotingClassifier"
      ]
    },
    {
      "cell_type": "code",
      "execution_count": null,
      "id": "56be6b3e",
      "metadata": {
        "id": "56be6b3e"
      },
      "outputs": [],
      "source": [
        "#We use over-resampling to address the, imbalance data\n",
        "oversampler = SMOTE(random_state=42)\n",
        "X_train_over, y_train_over = oversampler.fit_resample(X_train, y_train)"
      ]
    },
    {
      "cell_type": "code",
      "execution_count": null,
      "id": "d466f83f",
      "metadata": {
        "id": "d466f83f",
        "outputId": "b877aa73-04ef-414e-8400-b184f1f63442"
      },
      "outputs": [
        {
          "name": "stdout",
          "output_type": "stream",
          "text": [
            "MultinomialNB - Cross-validation scores: [0.66764706 0.65609676 0.67374959 0.6740765  0.66263485]\n",
            "MultinomialNB - Mean accuracy: 0.6668409514835683\n",
            "\n",
            "\n",
            "\n",
            "SVM - Cross-validation scores: [0.66764706 0.65609676 0.67374959 0.6740765  0.66263485]\n",
            "SVM - Mean accuracy: 0.6668409514835683\n",
            "\n",
            "\n",
            "\n",
            "Logistic Regression - Cross-validation scores: [0.66764706 0.65609676 0.67374959 0.6740765  0.66263485]\n",
            "Logistic Regression - Mean accuracy: 0.6668409514835683\n",
            "\n",
            "\n",
            "\n",
            "KNeighbors - Cross-validation scores: [0.77745098 0.81137627 0.82118339 0.81497221 0.81529912]\n",
            "KNeighbors - Mean accuracy: 0.8080563941823871\n",
            "\n",
            "\n",
            "\n",
            "Decision Tree - Cross-validation scores: [0.66764706 0.65609676 0.67374959 0.6740765  0.66263485]\n",
            "Decision Tree - Mean accuracy: 0.6668409514835683\n",
            "\n",
            "\n",
            "\n",
            "Bagging - Cross-validation scores: [0.66764706 0.65609676 0.67374959 0.6740765  0.66263485]\n",
            "Bagging - Mean accuracy: 0.6668409514835683\n",
            "\n",
            "\n",
            "\n",
            "AdaBoost - Cross-validation scores: [0.66764706 0.65609676 0.67374959 0.6740765  0.66263485]\n",
            "AdaBoost - Mean accuracy: 0.6668409514835683\n",
            "\n",
            "\n",
            "\n",
            "Random Forest - Cross-validation scores: [0.66764706 0.65609676 0.67374959 0.6740765  0.66263485]\n",
            "Random Forest - Mean accuracy: 0.6668409514835683\n",
            "\n",
            "\n",
            "\n",
            "Voting - Cross-validation scores: [0.66764706 0.65609676 0.67374959 0.6740765  0.66263485]\n",
            "Voting - Mean accuracy: 0.6668409514835683\n",
            "\n",
            "\n",
            "\n"
          ]
        }
      ],
      "source": [
        "#Create a pipeline\n",
        "pipeline = Pipeline([\n",
        "    ('scaler', Normalizer()),\n",
        "    ('classifier', None)\n",
        "])\n",
        "\n",
        "#Cross-validate with different classification algorithms\n",
        "classifiers = [\n",
        "    ('MultinomialNB', MultinomialNB()),\n",
        "    ('SVM', LinearSVC(C=0.0001)),\n",
        "    ('Logistic Regression', LogisticRegression(max_iter=1000)),\n",
        "    ('KNeighbors', KNeighborsClassifier(algorithm='brute', n_jobs=-1)),\n",
        "    ('Decision Tree', DecisionTreeClassifier()),\n",
        "    ('Bagging', BaggingClassifier(DecisionTreeClassifier(), max_samples=0.5, max_features=1.0, n_estimators=10)),\n",
        "    ('AdaBoost', AdaBoostClassifier(DecisionTreeClassifier(min_samples_split=10, max_depth=4), n_estimators=10, learning_rate=0.6)),\n",
        "    ('Random Forest', RandomForestClassifier(n_estimators=30, max_depth=9)),\n",
        "    ('Voting', VotingClassifier(estimators=[('mnb', MultinomialNB()), ('lr', LogisticRegression()), ('rf', RandomForestClassifier()), ('svm', LinearSVC())], voting='hard'))\n",
        "]\n",
        "\n",
        "for clf_name, clf in classifiers:\n",
        "    pipeline.set_params(classifier=clf)  # Set the classifier in the pipeline\n",
        "    cv_scores = cross_val_score(pipeline, X_train_over, y_train_over, cv=5, scoring=make_scorer(accuracy_score))\n",
        "\n",
        "    print(f\"{clf_name} - Cross-validation scores: {cv_scores}\")\n",
        "    print(f\"{clf_name} - Mean accuracy: {cv_scores.mean()}\")\n",
        "    print()\n",
        "    print(\"\\n\")"
      ]
    },
    {
      "cell_type": "markdown",
      "id": "62775503",
      "metadata": {
        "id": "62775503"
      },
      "source": [
        "**KNeighbor yield the best accuracy.**"
      ]
    },
    {
      "cell_type": "code",
      "execution_count": null,
      "id": "cc6e0332",
      "metadata": {
        "id": "cc6e0332",
        "outputId": "4f5aa5c2-2ffa-48ed-e718-1c48d3995668"
      },
      "outputs": [
        {
          "name": "stdout",
          "output_type": "stream",
          "text": [
            "Accuracy: 0.8991666666666667\n",
            "Confusion Matrix:\n",
            "[[1912    0]\n",
            " [ 242  246]]\n",
            "Classification Report:\n",
            "              precision    recall  f1-score   support\n",
            "\n",
            "         0.0       0.89      1.00      0.94      1912\n",
            "         1.0       1.00      0.50      0.67       488\n",
            "\n",
            "    accuracy                           0.90      2400\n",
            "   macro avg       0.94      0.75      0.81      2400\n",
            "weighted avg       0.91      0.90      0.89      2400\n",
            "\n"
          ]
        }
      ],
      "source": [
        "# Initialize the Random Forest classifier\n",
        "knn_classifier = KNeighborsClassifier(algorithm='brute', n_jobs=-1)\n",
        "\n",
        "scale = Normalizer()\n",
        "X_train_scaled = scale.fit_transform(X_train_over)\n",
        "X_test_scaled = scale.fit_transform(X_test)\n",
        "\n",
        "# Train the classifier\n",
        "knn_classifier.fit(X_train_scaled, y_train_over)\n",
        "\n",
        "# Make predictions on the test set\n",
        "y_pred = knn_classifier.predict(X_test_scaled)\n",
        "\n",
        "# Evaluate the performance\n",
        "accuracy = accuracy_score(y_test, y_pred)\n",
        "conf_matrix = confusion_matrix(y_test, y_pred)\n",
        "classification_rep = classification_report(y_test, y_pred)\n",
        "\n",
        "# Print the results\n",
        "print(f'Accuracy: {accuracy}')\n",
        "print(f'Confusion Matrix:\\n{conf_matrix}')\n",
        "print(f'Classification Report:\\n{classification_rep}')"
      ]
    },
    {
      "cell_type": "markdown",
      "id": "694c96ea",
      "metadata": {
        "id": "694c96ea"
      },
      "source": [
        "# Features Importance"
      ]
    },
    {
      "cell_type": "markdown",
      "id": "96cd90ac",
      "metadata": {
        "id": "96cd90ac"
      },
      "source": [
        "**K-nearest Neighbors Model gives the best prediction but it does not indicate features importance. Thus, we use another model to determine features importance.**\n",
        "\n",
        "**Since our data is highly imbalance, we will use an ensemble method. We will use Random Forest.**"
      ]
    },
    {
      "cell_type": "code",
      "execution_count": null,
      "id": "39b820ce",
      "metadata": {
        "id": "39b820ce",
        "outputId": "db342d84-bf84-4251-e0a8-518b0c6ffd3e"
      },
      "outputs": [
        {
          "name": "stdout",
          "output_type": "stream",
          "text": [
            "Accuracy: 0.46375\n",
            "Confusion Matrix:\n",
            "[[ 625 1287]\n",
            " [   0  488]]\n",
            "Classification Report:\n",
            "              precision    recall  f1-score   support\n",
            "\n",
            "         0.0       1.00      0.33      0.49      1912\n",
            "         1.0       0.27      1.00      0.43       488\n",
            "\n",
            "    accuracy                           0.46      2400\n",
            "   macro avg       0.64      0.66      0.46      2400\n",
            "weighted avg       0.85      0.46      0.48      2400\n",
            "\n"
          ]
        }
      ],
      "source": [
        "# Initialize the Random Forest classifier\n",
        "rf_classifier = RandomForestClassifier(n_estimators=30, max_depth=9)\n",
        "\n",
        "scale = Normalizer()\n",
        "X_train_scaled = scale.fit_transform(X_train_over)\n",
        "X_test_scaled = scale.fit_transform(X_test)\n",
        "\n",
        "# Train the classifier\n",
        "rf_classifier.fit(X_train_scaled, y_train_over)\n",
        "\n",
        "# Make predictions on the test set\n",
        "y_pred = rf_classifier.predict(X_test_scaled)\n",
        "\n",
        "# Evaluate the performance\n",
        "accuracy = accuracy_score(y_test, y_pred)\n",
        "conf_matrix = confusion_matrix(y_test, y_pred)\n",
        "classification_rep = classification_report(y_test, y_pred)\n",
        "\n",
        "# Print the results\n",
        "print(f'Accuracy: {accuracy}')\n",
        "print(f'Confusion Matrix:\\n{conf_matrix}')\n",
        "print(f'Classification Report:\\n{classification_rep}')"
      ]
    },
    {
      "cell_type": "code",
      "execution_count": null,
      "id": "d004625c",
      "metadata": {
        "id": "d004625c"
      },
      "outputs": [],
      "source": [
        "feature_names = list(data_transformed.drop('remainder__is_adopted', axis=1).columns)"
      ]
    },
    {
      "cell_type": "code",
      "execution_count": null,
      "id": "88a17ef8",
      "metadata": {
        "id": "88a17ef8",
        "outputId": "9ddbcaaf-5122-4e54-ec9c-efc94a282be8"
      },
      "outputs": [
        {
          "name": "stdout",
          "output_type": "stream",
          "text": [
            "Elapsed time to compute the importances: 0.033 seconds\n"
          ]
        }
      ],
      "source": [
        "start_time = time.time()\n",
        "importances = rf_classifier.feature_importances_\n",
        "std = np.std([tree.feature_importances_ for tree in rf_classifier.estimators_], axis=0)\n",
        "elapsed_time = time.time() - start_time\n",
        "\n",
        "print(f\"Elapsed time to compute the importances: {elapsed_time:.3f} seconds\")"
      ]
    },
    {
      "cell_type": "code",
      "execution_count": null,
      "id": "402cb498",
      "metadata": {
        "id": "402cb498",
        "outputId": "81264737-dc1a-4b88-b4f8-612e957a404c"
      },
      "outputs": [
        {
          "data": {
            "image/png": "[encoded data removed]",
            "text/plain": [
              "<Figure size 640x480 with 1 Axes>"
            ]
          },
          "metadata": {},
          "output_type": "display_data"
        }
      ],
      "source": [
        "forest_importances = pd.Series(importances, index=feature_names)\n",
        "\n",
        "fig, ax = plt.subplots()\n",
        "forest_importances.plot.bar(yerr=std, ax=ax)\n",
        "ax.set_title(\"Feature importances using MDI\")\n",
        "ax.set_ylabel(\"Mean decrease in impurity\")\n",
        "plt.show()"
      ]
    },
    {
      "cell_type": "markdown",
      "id": "c2808c1e",
      "metadata": {
        "id": "c2808c1e"
      },
      "source": [
        "**From the features importance plot, we see that three most importance features are:**\n",
        "* **Last login time**\n",
        "* **If the account is for a personal project.**\n",
        "* **If a user is invited by another user.**"
      ]
    },
    {
      "cell_type": "code",
      "execution_count": null,
      "id": "7956e97f",
      "metadata": {
        "id": "7956e97f"
      },
      "outputs": [],
      "source": []
    }
  ],
  "metadata": {
    "kernelspec": {
      "display_name": "Python 3 (ipykernel)",
      "language": "python",
      "name": "python3"
    },
    "language_info": {
      "codemirror_mode": {
        "name": "ipython",
        "version": 3
      },
      "file_extension": ".py",
      "mimetype": "text/x-python",
      "name": "python",
      "nbconvert_exporter": "python",
      "pygments_lexer": "ipython3",
      "version": "3.9.2"
    },
    "toc": {
      "base_numbering": 1,
      "nav_menu": {},
      "number_sections": true,
      "sideBar": true,
      "skip_h1_title": false,
      "title_cell": "Table of Contents",
      "title_sidebar": "Contents",
      "toc_cell": false,
      "toc_position": {
        "height": "calc(100% - 180px)",
        "left": "10px",
        "top": "150px",
        "width": "175.6px"
      },
      "toc_section_display": true,
      "toc_window_display": true
    },
    "colab": {
      "provenance": [],
      "include_colab_link": true
    }
  },
  "nbformat": 4,
  "nbformat_minor": 5
}